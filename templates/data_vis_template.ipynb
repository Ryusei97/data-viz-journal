{
 "cells": [
  {
   "cell_type": "markdown",
   "metadata": {},
   "source": [
    "# 📊 Title of the Visualization\n",
    "\n",
    "**Date:** YYYY-MM-DD  \n",
    "\n",
    "---\n",
    "\n",
    "## 📝 Description\n",
    "\n",
    "A brief summary of what this visualization shows and why it’s interesting. Include key takeaways or insights, if applicable.\n",
    "\n",
    "---\n",
    "\n",
    "## 📁 Data Source\n",
    "\n",
    "- **Name:** e.g., World Bank, Kaggle, Internal Dataset\n",
    "- **URL:** [https://example.com](https://example.com)\n",
    "- **Notes:** Any transformations, filtering, or special notes about the data.\n",
    "\n",
    "---\n"
   ]
  },
  {
   "cell_type": "markdown",
   "metadata": {},
   "source": [
    "### Libraries"
   ]
  },
  {
   "cell_type": "code",
   "execution_count": null,
   "metadata": {},
   "outputs": [],
   "source": [
    "import os\n",
    "import pandas as pd\n",
    "import numpy as np"
   ]
  },
  {
   "cell_type": "code",
   "execution_count": null,
   "metadata": {},
   "outputs": [],
   "source": [
    "# Dates are added to the beginning of the output files / folders\n",
    "# NOTE: This needs to be set only once per notebook and should not get updated \n",
    "date_prefix = 'YYYY_MM_DD'\n",
    "project_name = 'cool_data_vis_project'\n",
    "\n",
    "folder_name = f'{date_prefix}_{project_name}'\n",
    "output_directory = os.path.join('outputs', folder_name)"
   ]
  },
  {
   "cell_type": "markdown",
   "metadata": {},
   "source": [
    "### Plot"
   ]
  },
  {
   "cell_type": "markdown",
   "metadata": {},
   "source": []
  },
  {
   "cell_type": "markdown",
   "metadata": {},
   "source": [
    "### Save Plot"
   ]
  },
  {
   "cell_type": "code",
   "execution_count": null,
   "metadata": {},
   "outputs": [],
   "source": [
    "if not os.path.exists(output_directory):\n",
    "    os.makedirs(output_directory)\n",
    "    print(f\"Created folder: {output_directory}\")\n",
    "else:\n",
    "    print(f\"Folder already exists: {output_directory}\")"
   ]
  },
  {
   "cell_type": "code",
   "execution_count": null,
   "metadata": {},
   "outputs": [],
   "source": [
    "# Save plots to output_directory"
   ]
  }
 ],
 "metadata": {
  "kernelspec": {
   "display_name": "dataviz_env",
   "language": "python",
   "name": "python3"
  },
  "language_info": {
   "name": "python",
   "version": "3.10.16"
  }
 },
 "nbformat": 4,
 "nbformat_minor": 2
}
